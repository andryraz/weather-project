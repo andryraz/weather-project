{
 "cells": [
  {
   "cell_type": "markdown",
   "metadata": {
    "id": "P2PmIhnUdspk"
   },
   "source": [
    "**1. Import des bibliothèques de base**"
   ]
  },
  {
   "cell_type": "code",
   "execution_count": 2,
   "metadata": {
    "id": "blsNwgFDa5Yu"
   },
   "outputs": [],
   "source": [
    "import numpy as np\n",
    "import matplotlib.pyplot as plt\n",
    "import seaborn as sns\n",
    "import pandas as pd\n",
    "\n",
    "# Paramétrage pour une visualisation propre\n",
    "sns.set(style=\"whitegrid\")\n",
    "%matplotlib inline\n"
   ]
  },
  {
   "cell_type": "markdown",
   "metadata": {
    "id": "rREZ0WOjd3pv"
   },
   "source": [
    "**2. Chargement du dataset**"
   ]
  },
  {
   "cell_type": "code",
   "execution_count": 3,
   "metadata": {
    "id": "h4APVFc9bhMj"
   },
   "outputs": [
    {
     "data": {
      "text/html": [
       "<div>\n",
       "<style scoped>\n",
       "    .dataframe tbody tr th:only-of-type {\n",
       "        vertical-align: middle;\n",
       "    }\n",
       "\n",
       "    .dataframe tbody tr th {\n",
       "        vertical-align: top;\n",
       "    }\n",
       "\n",
       "    .dataframe thead th {\n",
       "        text-align: right;\n",
       "    }\n",
       "</style>\n",
       "<table border=\"1\" class=\"dataframe\">\n",
       "  <thead>\n",
       "    <tr style=\"text-align: right;\">\n",
       "      <th></th>\n",
       "      <th>date_id</th>\n",
       "      <th>ville_id</th>\n",
       "      <th>source_id</th>\n",
       "      <th>temperature_2m_min</th>\n",
       "      <th>temperature_2m_max</th>\n",
       "      <th>temp_mean</th>\n",
       "      <th>precipitation_sum</th>\n",
       "      <th>humidity</th>\n",
       "      <th>pressure</th>\n",
       "      <th>wind_speed</th>\n",
       "      <th>rainy_day</th>\n",
       "      <th>id</th>\n",
       "    </tr>\n",
       "  </thead>\n",
       "  <tbody>\n",
       "    <tr>\n",
       "      <th>0</th>\n",
       "      <td>1</td>\n",
       "      <td>1</td>\n",
       "      <td>1</td>\n",
       "      <td>15.9</td>\n",
       "      <td>25.2</td>\n",
       "      <td>20.55</td>\n",
       "      <td>0.0</td>\n",
       "      <td>66.79</td>\n",
       "      <td>1014.55</td>\n",
       "      <td>15.99</td>\n",
       "      <td>0</td>\n",
       "      <td>1</td>\n",
       "    </tr>\n",
       "    <tr>\n",
       "      <th>1</th>\n",
       "      <td>2</td>\n",
       "      <td>1</td>\n",
       "      <td>1</td>\n",
       "      <td>17.2</td>\n",
       "      <td>24.6</td>\n",
       "      <td>20.90</td>\n",
       "      <td>0.0</td>\n",
       "      <td>76.12</td>\n",
       "      <td>1017.65</td>\n",
       "      <td>12.31</td>\n",
       "      <td>0</td>\n",
       "      <td>2</td>\n",
       "    </tr>\n",
       "    <tr>\n",
       "      <th>2</th>\n",
       "      <td>3</td>\n",
       "      <td>1</td>\n",
       "      <td>1</td>\n",
       "      <td>16.1</td>\n",
       "      <td>26.1</td>\n",
       "      <td>21.10</td>\n",
       "      <td>0.0</td>\n",
       "      <td>68.04</td>\n",
       "      <td>1018.06</td>\n",
       "      <td>8.36</td>\n",
       "      <td>0</td>\n",
       "      <td>3</td>\n",
       "    </tr>\n",
       "    <tr>\n",
       "      <th>3</th>\n",
       "      <td>4</td>\n",
       "      <td>1</td>\n",
       "      <td>1</td>\n",
       "      <td>15.8</td>\n",
       "      <td>29.0</td>\n",
       "      <td>22.40</td>\n",
       "      <td>0.0</td>\n",
       "      <td>48.50</td>\n",
       "      <td>1014.89</td>\n",
       "      <td>12.48</td>\n",
       "      <td>0</td>\n",
       "      <td>4</td>\n",
       "    </tr>\n",
       "    <tr>\n",
       "      <th>4</th>\n",
       "      <td>5</td>\n",
       "      <td>1</td>\n",
       "      <td>1</td>\n",
       "      <td>19.5</td>\n",
       "      <td>27.3</td>\n",
       "      <td>23.40</td>\n",
       "      <td>4.5</td>\n",
       "      <td>65.29</td>\n",
       "      <td>1012.70</td>\n",
       "      <td>20.53</td>\n",
       "      <td>1</td>\n",
       "      <td>5</td>\n",
       "    </tr>\n",
       "  </tbody>\n",
       "</table>\n",
       "</div>"
      ],
      "text/plain": [
       "   date_id  ville_id  source_id  temperature_2m_min  temperature_2m_max  \\\n",
       "0        1         1          1                15.9                25.2   \n",
       "1        2         1          1                17.2                24.6   \n",
       "2        3         1          1                16.1                26.1   \n",
       "3        4         1          1                15.8                29.0   \n",
       "4        5         1          1                19.5                27.3   \n",
       "\n",
       "   temp_mean  precipitation_sum  humidity  pressure  wind_speed  rainy_day  id  \n",
       "0      20.55                0.0     66.79   1014.55       15.99          0   1  \n",
       "1      20.90                0.0     76.12   1017.65       12.31          0   2  \n",
       "2      21.10                0.0     68.04   1018.06        8.36          0   3  \n",
       "3      22.40                0.0     48.50   1014.89       12.48          0   4  \n",
       "4      23.40                4.5     65.29   1012.70       20.53          1   5  "
      ]
     },
     "execution_count": 3,
     "metadata": {},
     "output_type": "execute_result"
    }
   ],
   "source": [
    "fact = pd.read_csv(\"../data/star_schema/fact_weather.csv\") \n",
    "\n",
    "# Aperçu rapide\n",
    "fact.head()\n"
   ]
  },
  {
   "cell_type": "markdown",
   "metadata": {
    "id": "dFCVMBTseBO2"
   },
   "source": [
    "**3. Aperçu général du dataset**"
   ]
  },
  {
   "cell_type": "code",
   "execution_count": 4,
   "metadata": {
    "id": "F-q1ZJsMb20S"
   },
   "outputs": [
    {
     "name": "stdout",
     "output_type": "stream",
     "text": [
      "<class 'pandas.core.frame.DataFrame'>\n",
      "RangeIndex: 14084 entries, 0 to 14083\n",
      "Data columns (total 12 columns):\n",
      " #   Column              Non-Null Count  Dtype  \n",
      "---  ------              --------------  -----  \n",
      " 0   date_id             14084 non-null  int64  \n",
      " 1   ville_id            14084 non-null  int64  \n",
      " 2   source_id           14084 non-null  int64  \n",
      " 3   temperature_2m_min  14084 non-null  float64\n",
      " 4   temperature_2m_max  14084 non-null  float64\n",
      " 5   temp_mean           14084 non-null  float64\n",
      " 6   precipitation_sum   14084 non-null  float64\n",
      " 7   humidity            14084 non-null  float64\n",
      " 8   pressure            14084 non-null  float64\n",
      " 9   wind_speed          14084 non-null  float64\n",
      " 10  rainy_day           14084 non-null  int64  \n",
      " 11  id                  14084 non-null  int64  \n",
      "dtypes: float64(7), int64(5)\n",
      "memory usage: 1.3 MB\n"
     ]
    }
   ],
   "source": [
    "fact.info()"
   ]
  },
  {
   "cell_type": "code",
   "execution_count": 5,
   "metadata": {
    "id": "Ec_Wqrn-eJ7Z"
   },
   "outputs": [
    {
     "data": {
      "text/html": [
       "<div>\n",
       "<style scoped>\n",
       "    .dataframe tbody tr th:only-of-type {\n",
       "        vertical-align: middle;\n",
       "    }\n",
       "\n",
       "    .dataframe tbody tr th {\n",
       "        vertical-align: top;\n",
       "    }\n",
       "\n",
       "    .dataframe thead th {\n",
       "        text-align: right;\n",
       "    }\n",
       "</style>\n",
       "<table border=\"1\" class=\"dataframe\">\n",
       "  <thead>\n",
       "    <tr style=\"text-align: right;\">\n",
       "      <th></th>\n",
       "      <th>date_id</th>\n",
       "      <th>ville_id</th>\n",
       "      <th>source_id</th>\n",
       "      <th>temperature_2m_min</th>\n",
       "      <th>temperature_2m_max</th>\n",
       "      <th>temp_mean</th>\n",
       "      <th>precipitation_sum</th>\n",
       "      <th>humidity</th>\n",
       "      <th>pressure</th>\n",
       "      <th>wind_speed</th>\n",
       "      <th>rainy_day</th>\n",
       "      <th>id</th>\n",
       "    </tr>\n",
       "  </thead>\n",
       "  <tbody>\n",
       "    <tr>\n",
       "      <th>count</th>\n",
       "      <td>14084.00000</td>\n",
       "      <td>14084.000000</td>\n",
       "      <td>14084.000000</td>\n",
       "      <td>14084.000000</td>\n",
       "      <td>14084.000000</td>\n",
       "      <td>14084.000000</td>\n",
       "      <td>14084.000000</td>\n",
       "      <td>14084.000000</td>\n",
       "      <td>14084.000000</td>\n",
       "      <td>14084.000000</td>\n",
       "      <td>14084.000000</td>\n",
       "      <td>14084.000000</td>\n",
       "    </tr>\n",
       "    <tr>\n",
       "      <th>mean</th>\n",
       "      <td>1006.50000</td>\n",
       "      <td>4.000000</td>\n",
       "      <td>1.000497</td>\n",
       "      <td>12.311549</td>\n",
       "      <td>20.196069</td>\n",
       "      <td>16.253809</td>\n",
       "      <td>3.091171</td>\n",
       "      <td>72.712987</td>\n",
       "      <td>1014.703101</td>\n",
       "      <td>15.530060</td>\n",
       "      <td>0.534649</td>\n",
       "      <td>7042.500000</td>\n",
       "    </tr>\n",
       "    <tr>\n",
       "      <th>std</th>\n",
       "      <td>580.83492</td>\n",
       "      <td>2.000071</td>\n",
       "      <td>0.022289</td>\n",
       "      <td>9.548741</td>\n",
       "      <td>10.147466</td>\n",
       "      <td>9.662279</td>\n",
       "      <td>7.846022</td>\n",
       "      <td>12.746861</td>\n",
       "      <td>8.331754</td>\n",
       "      <td>8.777498</td>\n",
       "      <td>0.498816</td>\n",
       "      <td>4065.844931</td>\n",
       "    </tr>\n",
       "    <tr>\n",
       "      <th>min</th>\n",
       "      <td>1.00000</td>\n",
       "      <td>1.000000</td>\n",
       "      <td>1.000000</td>\n",
       "      <td>-30.900000</td>\n",
       "      <td>-25.100000</td>\n",
       "      <td>-27.350000</td>\n",
       "      <td>0.000000</td>\n",
       "      <td>13.830000</td>\n",
       "      <td>966.180000</td>\n",
       "      <td>1.650000</td>\n",
       "      <td>0.000000</td>\n",
       "      <td>1.000000</td>\n",
       "    </tr>\n",
       "    <tr>\n",
       "      <th>25%</th>\n",
       "      <td>503.75000</td>\n",
       "      <td>2.000000</td>\n",
       "      <td>1.000000</td>\n",
       "      <td>6.200000</td>\n",
       "      <td>13.700000</td>\n",
       "      <td>10.100000</td>\n",
       "      <td>0.000000</td>\n",
       "      <td>64.670000</td>\n",
       "      <td>1010.077500</td>\n",
       "      <td>9.830000</td>\n",
       "      <td>0.000000</td>\n",
       "      <td>3521.750000</td>\n",
       "    </tr>\n",
       "    <tr>\n",
       "      <th>50%</th>\n",
       "      <td>1006.50000</td>\n",
       "      <td>4.000000</td>\n",
       "      <td>1.000000</td>\n",
       "      <td>13.300000</td>\n",
       "      <td>21.400000</td>\n",
       "      <td>17.400000</td>\n",
       "      <td>0.100000</td>\n",
       "      <td>74.170000</td>\n",
       "      <td>1015.290000</td>\n",
       "      <td>13.140000</td>\n",
       "      <td>1.000000</td>\n",
       "      <td>7042.500000</td>\n",
       "    </tr>\n",
       "    <tr>\n",
       "      <th>75%</th>\n",
       "      <td>1509.25000</td>\n",
       "      <td>6.000000</td>\n",
       "      <td>1.000000</td>\n",
       "      <td>18.400000</td>\n",
       "      <td>26.600000</td>\n",
       "      <td>22.300000</td>\n",
       "      <td>2.300000</td>\n",
       "      <td>82.210000</td>\n",
       "      <td>1019.940000</td>\n",
       "      <td>18.390000</td>\n",
       "      <td>1.000000</td>\n",
       "      <td>10563.250000</td>\n",
       "    </tr>\n",
       "    <tr>\n",
       "      <th>max</th>\n",
       "      <td>2012.00000</td>\n",
       "      <td>7.000000</td>\n",
       "      <td>2.000000</td>\n",
       "      <td>39.020000</td>\n",
       "      <td>46.200000</td>\n",
       "      <td>39.650000</td>\n",
       "      <td>183.800000</td>\n",
       "      <td>99.210000</td>\n",
       "      <td>1052.390000</td>\n",
       "      <td>65.480000</td>\n",
       "      <td>1.000000</td>\n",
       "      <td>14084.000000</td>\n",
       "    </tr>\n",
       "  </tbody>\n",
       "</table>\n",
       "</div>"
      ],
      "text/plain": [
       "           date_id      ville_id     source_id  temperature_2m_min  \\\n",
       "count  14084.00000  14084.000000  14084.000000        14084.000000   \n",
       "mean    1006.50000      4.000000      1.000497           12.311549   \n",
       "std      580.83492      2.000071      0.022289            9.548741   \n",
       "min        1.00000      1.000000      1.000000          -30.900000   \n",
       "25%      503.75000      2.000000      1.000000            6.200000   \n",
       "50%     1006.50000      4.000000      1.000000           13.300000   \n",
       "75%     1509.25000      6.000000      1.000000           18.400000   \n",
       "max     2012.00000      7.000000      2.000000           39.020000   \n",
       "\n",
       "       temperature_2m_max     temp_mean  precipitation_sum      humidity  \\\n",
       "count        14084.000000  14084.000000       14084.000000  14084.000000   \n",
       "mean            20.196069     16.253809           3.091171     72.712987   \n",
       "std             10.147466      9.662279           7.846022     12.746861   \n",
       "min            -25.100000    -27.350000           0.000000     13.830000   \n",
       "25%             13.700000     10.100000           0.000000     64.670000   \n",
       "50%             21.400000     17.400000           0.100000     74.170000   \n",
       "75%             26.600000     22.300000           2.300000     82.210000   \n",
       "max             46.200000     39.650000         183.800000     99.210000   \n",
       "\n",
       "           pressure    wind_speed     rainy_day            id  \n",
       "count  14084.000000  14084.000000  14084.000000  14084.000000  \n",
       "mean    1014.703101     15.530060      0.534649   7042.500000  \n",
       "std        8.331754      8.777498      0.498816   4065.844931  \n",
       "min      966.180000      1.650000      0.000000      1.000000  \n",
       "25%     1010.077500      9.830000      0.000000   3521.750000  \n",
       "50%     1015.290000     13.140000      1.000000   7042.500000  \n",
       "75%     1019.940000     18.390000      1.000000  10563.250000  \n",
       "max     1052.390000     65.480000      1.000000  14084.000000  "
      ]
     },
     "execution_count": 5,
     "metadata": {},
     "output_type": "execute_result"
    }
   ],
   "source": [
    "fact.describe()"
   ]
  },
  {
   "cell_type": "code",
   "execution_count": null,
   "metadata": {},
   "outputs": [],
   "source": []
  },
  {
   "cell_type": "markdown",
   "metadata": {
    "id": "kzCvE9nxeU2R"
   },
   "source": [
    "**4. Vérification des types de colonnes et des valeurs uniques**"
   ]
  },
  {
   "cell_type": "code",
   "execution_count": 6,
   "metadata": {},
   "outputs": [
    {
     "data": {
      "text/plain": [
       "date_id                 int64\n",
       "ville_id                int64\n",
       "source_id               int64\n",
       "temperature_2m_min    float64\n",
       "temperature_2m_max    float64\n",
       "temp_mean             float64\n",
       "precipitation_sum     float64\n",
       "humidity              float64\n",
       "pressure              float64\n",
       "wind_speed            float64\n",
       "rainy_day               int64\n",
       "id                      int64\n",
       "dtype: object"
      ]
     },
     "execution_count": 6,
     "metadata": {},
     "output_type": "execute_result"
    }
   ],
   "source": [
    "# types\n",
    "fact.dtypes"
   ]
  },
  {
   "cell_type": "markdown",
   "metadata": {
    "id": "kzCvE9nxeU2R"
   },
   "source": [
    "**5. Détection de données manquantes et doublons**"
   ]
  },
  {
   "cell_type": "code",
   "execution_count": null,
   "metadata": {},
   "outputs": [],
   "source": []
  },
  {
   "cell_type": "code",
   "execution_count": 7,
   "metadata": {
    "id": "GUyPV3DFchnV"
   },
   "outputs": [
    {
     "name": "stdout",
     "output_type": "stream",
     "text": [
      "Valeurs manquantes par colonne :\n",
      " date_id               0\n",
      "ville_id              0\n",
      "source_id             0\n",
      "temperature_2m_min    0\n",
      "temperature_2m_max    0\n",
      "temp_mean             0\n",
      "precipitation_sum     0\n",
      "humidity              0\n",
      "pressure              0\n",
      "wind_speed            0\n",
      "rainy_day             0\n",
      "id                    0\n",
      "dtype: int64\n",
      "Nombre de doublons : 0\n"
     ]
    }
   ],
   "source": [
    "print(\"Valeurs manquantes par colonne :\\n\", fact.isnull().sum())\n",
    "print(\"Nombre de doublons :\", fact.duplicated().sum())"
   ]
  },
  {
   "cell_type": "markdown",
   "metadata": {
    "id": "kzCvE9nxeU2R"
   },
   "source": [
    "**6. Visualisation de la température moyenne par ville**"
   ]
  },
  {
   "cell_type": "code",
   "execution_count": 9,
   "metadata": {},
   "outputs": [
    {
     "data": {
      "image/png": "[encoded data removed]",
      "text/plain": [
       "<Figure size 640x480 with 1 Axes>"
      ]
     },
     "metadata": {},
     "output_type": "display_data"
    }
   ],
   "source": [
    "dim_ville = pd.read_csv(\"../data/star_schema/dim_ville.csv\")\n",
    "df = fact.merge(dim_ville, on=\"ville_id\")\n",
    "\n",
    "# Moyenne par ville\n",
    "df.groupby(\"nom\")[\"temp_mean\"].mean().sort_values().plot(kind=\"bar\", title=\"Température moyenne par ville\", ylabel=\"Température (°C)\")\n",
    "plt.tight_layout()\n",
    "plt.show()\n"
   ]
  },
  {
   "cell_type": "markdown",
   "metadata": {
    "id": "kzCvE9nxeU2R"
   },
   "source": [
    "**7. Évolution temporelle de la température**"
   ]
  },
  {
   "cell_type": "code",
   "execution_count": 10,
   "metadata": {},
   "outputs": [
    {
     "data": {
      "image/png": "[encoded data removed]",
      "text/plain": [
       "<Figure size 640x480 with 1 Axes>"
      ]
     },
     "metadata": {},
     "output_type": "display_data"
    }
   ],
   "source": [
    "dim_date = pd.read_csv(\"../data/star_schema/dim_date.csv\")\n",
    "\n",
    "df = df.merge(\n",
    "    dim_date[[\"date_id\", \"time\"]].rename(columns={\"time\": \"date\"}),\n",
    "    on=\"date_id\"\n",
    ")\n",
    "\n",
    "df[\"date\"] = pd.to_datetime(df[\"date\"])\n",
    "\n",
    "# Ligne pour une ville\n",
    "tana = df[df[\"nom\"] == \"Antananarivo\"]\n",
    "sns.lineplot(x=\"date\", y=\"temp_mean\", data=tana)\n",
    "plt.title(\"Évolution de la température à Antananarivo\")\n",
    "plt.show()\n"
   ]
  },
  {
   "cell_type": "markdown",
   "metadata": {
    "id": "kzCvE9nxeU2R"
   },
   "source": [
    "**8. Corrélation entre les variables météorologiques**"
   ]
  },
  {
   "cell_type": "code",
   "execution_count": 13,
   "metadata": {},
   "outputs": [
    {
     "data": {
      "image/png": "[encoded data removed]",
      "text/plain": [
       "<Figure size 640x480 with 2 Axes>"
      ]
     },
     "metadata": {},
     "output_type": "display_data"
    }
   ],
   "source": [
    "import seaborn as sns\n",
    "import matplotlib.pyplot as plt\n",
    "\n",
    "# Liste des variables à analyser\n",
    "variables_meteo = [\n",
    "    \"temp_mean\",\n",
    "    \"precipitation_sum\",\n",
    "    \"humidity\",\n",
    "    \"pressure\",\n",
    "    \"wind_speed\"\n",
    "]\n",
    "\n",
    "# Calcul de la matrice de corrélation\n",
    "correlation_matrix = fact[variables_meteo].corr()\n",
    "\n",
    "# Affichage de la heatmap\n",
    "sns.heatmap(correlation_matrix, annot=True, cmap=\"coolwarm\", fmt=\".2f\")\n",
    "plt.show()\n"
   ]
  },
  {
   "cell_type": "markdown",
   "metadata": {
    "id": "kzCvE9nxeU2R"
   },
   "source": [
    "**9. Temperature moyenne de chaque ville avec Écart-type**"
   ]
  },
  {
   "cell_type": "code",
   "execution_count": 14,
   "metadata": {},
   "outputs": [
    {
     "data": {
      "text/html": [
       "<div>\n",
       "<style scoped>\n",
       "    .dataframe tbody tr th:only-of-type {\n",
       "        vertical-align: middle;\n",
       "    }\n",
       "\n",
       "    .dataframe tbody tr th {\n",
       "        vertical-align: top;\n",
       "    }\n",
       "\n",
       "    .dataframe thead th {\n",
       "        text-align: right;\n",
       "    }\n",
       "</style>\n",
       "<table border=\"1\" class=\"dataframe\">\n",
       "  <thead>\n",
       "    <tr style=\"text-align: right;\">\n",
       "      <th></th>\n",
       "      <th>mean</th>\n",
       "      <th>std</th>\n",
       "    </tr>\n",
       "    <tr>\n",
       "      <th>nom</th>\n",
       "      <th></th>\n",
       "      <th></th>\n",
       "    </tr>\n",
       "  </thead>\n",
       "  <tbody>\n",
       "    <tr>\n",
       "      <th>Antananarivo</th>\n",
       "      <td>19.132520</td>\n",
       "      <td>2.749346</td>\n",
       "    </tr>\n",
       "    <tr>\n",
       "      <th>Sydney</th>\n",
       "      <td>19.575348</td>\n",
       "      <td>5.047693</td>\n",
       "    </tr>\n",
       "    <tr>\n",
       "      <th>Londres</th>\n",
       "      <td>11.612490</td>\n",
       "      <td>5.536896</td>\n",
       "    </tr>\n",
       "    <tr>\n",
       "      <th>Dubai</th>\n",
       "      <td>28.035318</td>\n",
       "      <td>5.924338</td>\n",
       "    </tr>\n",
       "    <tr>\n",
       "      <th>Tokyo</th>\n",
       "      <td>16.012619</td>\n",
       "      <td>8.469155</td>\n",
       "    </tr>\n",
       "    <tr>\n",
       "      <th>New York</th>\n",
       "      <td>13.068106</td>\n",
       "      <td>9.235362</td>\n",
       "    </tr>\n",
       "    <tr>\n",
       "      <th>Moscou</th>\n",
       "      <td>6.340258</td>\n",
       "      <td>10.473316</td>\n",
       "    </tr>\n",
       "  </tbody>\n",
       "</table>\n",
       "</div>"
      ],
      "text/plain": [
       "                   mean        std\n",
       "nom                               \n",
       "Antananarivo  19.132520   2.749346\n",
       "Sydney        19.575348   5.047693\n",
       "Londres       11.612490   5.536896\n",
       "Dubai         28.035318   5.924338\n",
       "Tokyo         16.012619   8.469155\n",
       "New York      13.068106   9.235362\n",
       "Moscou         6.340258  10.473316"
      ]
     },
     "execution_count": 14,
     "metadata": {},
     "output_type": "execute_result"
    }
   ],
   "source": [
    "df.groupby(\"nom\")[\"temp_mean\"].agg([\"mean\", \"std\"]).sort_values(by=\"std\")"
   ]
  },
  {
   "cell_type": "markdown",
   "metadata": {
    "id": "kzCvE9nxeU2R"
   },
   "source": [
    "**10. Nombre de jours pluvieux**"
   ]
  },
  {
   "cell_type": "code",
   "execution_count": 15,
   "metadata": {},
   "outputs": [
    {
     "name": "stdout",
     "output_type": "stream",
     "text": [
      "Nombre de jours pluvieux par ville :\n",
      "          ville  nombre_jours_pluvieux\n",
      "0  Antananarivo                   1159\n",
      "1         Dubai                    132\n",
      "2       Londres                   1212\n",
      "3        Moscou                   1252\n",
      "4      New York                   1035\n",
      "5        Sydney                   1623\n",
      "6         Tokyo                   1117\n"
     ]
    }
   ],
   "source": [
    "\n",
    "fact = pd.read_csv(\"../data/star_schema/fact_weather.csv\")\n",
    "dim_ville = pd.read_csv(\"../data/star_schema/dim_ville.csv\")\n",
    "dim_date = pd.read_csv(\"../data/star_schema/dim_date.csv\")\n",
    "\n",
    "df = fact.merge(dim_ville, on=\"ville_id\").merge(dim_date.rename(columns={\"time\": \"date\"}), on=\"date_id\")\n",
    "\n",
    "df[\"jour_pluvieux\"] = df[\"precipitation_sum\"] > 0\n",
    "\n",
    "jours_pluvieux_par_ville = df.groupby(\"nom\")[\"jour_pluvieux\"].sum().reset_index()\n",
    "jours_pluvieux_par_ville.columns = [\"ville\", \"nombre_jours_pluvieux\"]\n",
    "\n",
    "print(\"Nombre de jours pluvieux par ville :\")\n",
    "print(jours_pluvieux_par_ville)\n",
    "\n"
   ]
  },
  {
   "cell_type": "code",
   "execution_count": null,
   "metadata": {},
   "outputs": [],
   "source": []
  }
 ],
 "metadata": {
  "colab": {
   "provenance": []
  },
  "kernelspec": {
   "display_name": "Python 3 (ipykernel)",
   "language": "python",
   "name": "python3"
  },
  "language_info": {
   "codemirror_mode": {
    "name": "ipython",
    "version": 3
   },
   "file_extension": ".py",
   "mimetype": "text/x-python",
   "name": "python",
   "nbconvert_exporter": "python",
   "pygments_lexer": "ipython3",
   "version": "3.10.0"
  }
 },
 "nbformat": 4,
 "nbformat_minor": 4
}
