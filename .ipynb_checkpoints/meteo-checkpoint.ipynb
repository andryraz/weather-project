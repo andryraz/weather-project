{
 "cells": [
  {
   "cell_type": "code",
   "execution_count": null,
   "id": "e45a02f3-97ff-494a-b06d-998597065353",
   "metadata": {},
   "outputs": [],
   "source": [
    "import requests\n",
    "import pandas as pd\n",
    "from datetime import datetime\n",
    "\n",
    "API_KEY = \"43b6dc83753970c6271c339c12d3bb6e\"\n",
    "VILLES = {\n",
    "    \"Paris\": {\"lat\": 48.8566, \"lon\": 2.3522},\n",
    "    \"Antananarivo\": {\"lat\": -18.8792, \"lon\": 47.5079},\n",
    "    \"New York\": {\"lat\": 40.7128, \"lon\": -74.0060}\n",
    "}\n",
    "\n",
    "all_data = []\n",
    "\n",
    "for ville, coord in VILLES.items():\n",
    "    url = (\n",
    "        f\"https://api.openweathermap.org/data/3.0/onecall\"\n",
    "        f\"?lat={coord['lat']}&lon={coord['lon']}&appid={API_KEY}\"\n",
    "        f\"&units=metric&exclude=current,minutely,hourly,alerts\"\n",
    "    )\n",
    "\n",
    "    response = requests.get(url)\n",
    "    if response.status_code == 200:\n",
    "        data = response.json()\n",
    "        for d in data[\"daily\"]:\n",
    "            all_data.append({\n",
    "                \"ville\": ville,\n",
    "                \"date\": datetime.fromtimestamp(d[\"dt\"]).strftime(\"%Y-%m-%d\"),\n",
    "                \"temp_min\": d[\"temp\"][\"min\"],\n",
    "                \"temp_max\": d[\"temp\"][\"max\"],\n",
    "                \"humidity\": d[\"humidity\"],\n",
    "                \"pressure\": d[\"pressure\"],\n",
    "                \"description\": d[\"weather\"][0][\"description\"]\n",
    "            })\n",
    "    else:\n",
    "        print(f\"Erreur pour {ville} : {response.status_code}\")\n",
    "\n",
    "df = pd.DataFrame(all_data)\n",
    "filename = f\"previsions_{datetime.today().date()}.csv\"\n",
    "df.to_csv(filename, index=False)\n",
    "print(f\"Prévisions enregistrées dans {filename}\")\n"
   ]
  }
 ],
 "metadata": {
  "kernelspec": {
   "display_name": "Python 3 (ipykernel)",
   "language": "python",
   "name": "python3"
  },
  "language_info": {
   "codemirror_mode": {
    "name": "ipython",
    "version": 3
   },
   "file_extension": ".py",
   "mimetype": "text/x-python",
   "name": "python",
   "nbconvert_exporter": "python",
   "pygments_lexer": "ipython3",
   "version": "3.10.0"
  }
 },
 "nbformat": 4,
 "nbformat_minor": 5
}
